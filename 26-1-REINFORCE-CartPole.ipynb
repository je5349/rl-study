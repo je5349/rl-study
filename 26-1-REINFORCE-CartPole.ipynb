{
 "cells": [
  {
   "cell_type": "code",
   "execution_count": 1,
   "metadata": {},
   "outputs": [],
   "source": [
    "import warnings; warnings.filterwarnings('ignore')\n",
    "import numpy as np\n",
    "import pandas as pd\n",
    "import random\n",
    "import gym\n",
    "from gym import wrappers\n",
    "\n",
    "import torch\n",
    "import torch.nn as nn\n",
    "import torch.optim as optim\n",
    "\n",
    "import matplotlib.pyplot as plt\n",
    "%matplotlib inline"
   ]
  },
  {
   "cell_type": "code",
   "execution_count": 2,
   "metadata": {},
   "outputs": [],
   "source": [
    "class REINFORCE:\n",
    "    def __init__(self, num_states, num_actions):\n",
    "        self.num_states = num_states\n",
    "        self.num_actions = num_actions\n",
    "        self.alpha = 0.001\n",
    "        self.gamma = 0.99\n",
    "        self.pi = nn.Sequential(\n",
    "            nn.Linear(self.num_states, 32),\n",
    "            nn.ReLU(),\n",
    "            nn.Linear(32, 32),\n",
    "            nn.ReLU(),\n",
    "            nn.Linear(32, self.num_actions),\n",
    "            nn.Softmax()\n",
    "        )\n",
    "        self.optimizer = optim.Adam(self.pi.parameters(), lr=self.alpha)\n",
    "        self.memory = []\n",
    "        \n",
    "    def calculate_returns(self, rewards):\n",
    "        returns = torch.zeros(rewards.shape)\n",
    "        g_t = 0\n",
    "        for t in reversed(range(0,len(rewards))):\n",
    "            g_t = g_t * .99 + rewards[t].item()\n",
    "            returns[t] = g_t\n",
    "        return returns.detach()\n",
    "        \n",
    "    def append_sample(self, state, action, reward):\n",
    "        state = torch.FloatTensor(state)\n",
    "        reward = torch.FloatTensor([reward])\n",
    "        self.memory.append((state, action, reward))\n",
    "        \n",
    "    def update(self):\n",
    "        states = torch.stack([m[0] for m in self.memory])\n",
    "        actions = torch.stack([m[1] for m in self.memory]) \n",
    "        rewards = torch.stack([m[2] for m in self.memory])\n",
    "        \n",
    "        returns = self.calculate_returns(rewards)\n",
    "        returns = (returns - returns.mean()) / returns.std()\n",
    "        self.optimizer.zero_grad()\n",
    "        policy_log_probs = self.pi(torch.FloatTensor(states)).log()\n",
    "        policy_loss = torch.cat([-lp[a].unsqueeze(0) * g for a, lp, g in zip(actions, policy_log_probs, returns)])\n",
    "        policy_loss = policy_loss.sum()\n",
    "        policy_loss.backward()\n",
    "        \n",
    "        self.optimizer.step()\n",
    "            \n",
    "        self.memory = []\n",
    "        return policy_loss.item()\n",
    "    \n",
    "    def act(self, state):\n",
    "        with torch.no_grad():\n",
    "            state = torch.FloatTensor(state)\n",
    "            policy_probs = torch.distributions.Categorical(self.pi(state))\n",
    "\n",
    "        return policy_probs.sample()\n",
    "        "
   ]
  },
  {
   "cell_type": "code",
   "execution_count": 3,
   "metadata": {},
   "outputs": [
    {
     "data": {
      "text/plain": [
       "array([ 0.01359152, -0.03975019, -0.0469824 , -0.03837624])"
      ]
     },
     "execution_count": 3,
     "metadata": {},
     "output_type": "execute_result"
    }
   ],
   "source": [
    "env = gym.make('CartPole-v1')\n",
    "env = wrappers.Monitor(env, \"./video\", force=True)\n",
    "observation = env.reset()\n",
    "agent = REINFORCE(observation.shape[0], 2)\n",
    "\n",
    "observation"
   ]
  },
  {
   "cell_type": "code",
   "execution_count": 4,
   "metadata": {},
   "outputs": [
    {
     "name": "stdout",
     "output_type": "stream",
     "text": [
      "episode: 10, loss: -0.236, rewards: 49.000\n",
      "episode: 20, loss: 0.608, rewards: 26.000\n",
      "episode: 30, loss: 0.233, rewards: 22.000\n",
      "episode: 40, loss: -0.135, rewards: 23.000\n",
      "episode: 50, loss: -0.114, rewards: 24.000\n",
      "episode: 60, loss: -0.310, rewards: 28.000\n",
      "episode: 70, loss: -0.157, rewards: 12.000\n",
      "episode: 80, loss: -0.061, rewards: 20.000\n",
      "episode: 90, loss: 0.310, rewards: 37.000\n",
      "episode: 100, loss: 0.268, rewards: 26.000\n",
      "episode: 110, loss: -0.457, rewards: 67.000\n",
      "episode: 120, loss: -2.139, rewards: 19.000\n",
      "episode: 130, loss: 0.061, rewards: 11.000\n",
      "episode: 140, loss: -0.027, rewards: 28.000\n",
      "episode: 150, loss: -1.572, rewards: 17.000\n",
      "episode: 160, loss: -1.448, rewards: 44.000\n",
      "episode: 170, loss: -0.265, rewards: 54.000\n",
      "episode: 180, loss: -0.659, rewards: 41.000\n",
      "episode: 190, loss: -0.518, rewards: 83.000\n",
      "episode: 200, loss: 1.388, rewards: 20.000\n",
      "episode: 210, loss: 1.045, rewards: 41.000\n",
      "episode: 220, loss: -1.892, rewards: 75.000\n",
      "episode: 230, loss: -2.115, rewards: 39.000\n",
      "episode: 240, loss: -0.707, rewards: 42.000\n",
      "episode: 250, loss: -2.546, rewards: 117.000\n",
      "episode: 260, loss: -2.568, rewards: 132.000\n",
      "episode: 270, loss: 3.671, rewards: 289.000\n",
      "episode: 280, loss: 1.099, rewards: 33.000\n",
      "episode: 290, loss: -5.918, rewards: 140.000\n",
      "episode: 300, loss: 3.182, rewards: 72.000\n",
      "episode: 310, loss: -2.720, rewards: 131.000\n",
      "episode: 320, loss: -1.217, rewards: 39.000\n",
      "episode: 330, loss: -1.060, rewards: 159.000\n",
      "episode: 340, loss: -2.736, rewards: 28.000\n",
      "episode: 350, loss: 0.139, rewards: 84.000\n",
      "episode: 360, loss: 0.561, rewards: 327.000\n",
      "episode: 370, loss: -1.368, rewards: 346.000\n",
      "episode: 380, loss: -4.066, rewards: 428.000\n",
      "episode: 390, loss: -7.235, rewards: 417.000\n",
      "episode: 400, loss: -7.485, rewards: 115.000\n",
      "episode: 410, loss: -3.342, rewards: 283.000\n",
      "episode: 420, loss: -14.955, rewards: 500.000\n",
      "episode: 430, loss: -3.324, rewards: 422.000\n",
      "episode: 440, loss: -4.449, rewards: 500.000\n",
      "episode: 450, loss: -5.099, rewards: 243.000\n",
      "episode: 460, loss: 3.823, rewards: 250.000\n",
      "episode: 470, loss: -3.393, rewards: 172.000\n",
      "episode: 480, loss: -6.819, rewards: 232.000\n",
      "episode: 490, loss: -1.050, rewards: 500.000\n",
      "episode: 500, loss: -0.260, rewards: 413.000\n"
     ]
    }
   ],
   "source": [
    "rewards = []\n",
    "for ep in range(500):\n",
    "    done = False\n",
    "    obs = env.reset()\n",
    "    action = agent.act(obs)\n",
    "\n",
    "    ep_rewards = 0\n",
    "    while not done:\n",
    "        next_obs, reward, done, info = env.step(action.item())\n",
    "        ep_rewards += reward\n",
    "        next_action = agent.act(next_obs)\n",
    "\n",
    "        agent.append_sample(obs, action, reward)\n",
    "        obs = next_obs\n",
    "        action = next_action\n",
    "    pi_loss = agent.update()\n",
    "    rewards.append(ep_rewards)\n",
    "    if (ep+1) % 10 == 0:\n",
    "        print(\"episode: {}, loss: {:.3f}, rewards: {:.3f}\".format(ep+1, pi_loss, ep_rewards))\n",
    "env.close()"
   ]
  },
  {
   "cell_type": "code",
   "execution_count": 5,
   "metadata": {},
   "outputs": [
    {
     "data": {
      "text/html": [
       "<video alt=\"test\" autoplay \n",
       "                loop controls style=\"height: 400px;\">\n",
       "                <source src=\"data:video/mp4;base64,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\" type=\"video/mp4\" />\n",
       "             </video>"
      ],
      "text/plain": [
       "<IPython.core.display.HTML object>"
      ]
     },
     "metadata": {},
     "output_type": "display_data"
    }
   ],
   "source": [
    "from utils import show_video\n",
    "\n",
    "show_video()"
   ]
  },
  {
   "cell_type": "code",
   "execution_count": 6,
   "metadata": {},
   "outputs": [],
   "source": [
    "pd.Series(rewards).to_csv('./logs/rewards_reinforce_cartpole.csv')"
   ]
  },
  {
   "cell_type": "code",
   "execution_count": 8,
   "metadata": {},
   "outputs": [],
   "source": [
    "deepsarsa_logs = pd.read_csv('./logs/rewards_deepsarsa.csv', index_col=False).iloc[:, 1]\n",
    "reinforce_logs = pd.read_csv('./logs/rewards_reinforce_cartpole.csv', index_col=False).iloc[:, 1]\n"
   ]
  },
  {
   "cell_type": "code",
   "execution_count": 11,
   "metadata": {},
   "outputs": [
    {
     "data": {
      "text/plain": [
       "<matplotlib.legend.Legend at 0x7f06f9497f60>"
      ]
     },
     "execution_count": 11,
     "metadata": {},
     "output_type": "execute_result"
    },
    {
     "data": {
      "image/png": "[encoded data removed]",
      "text/plain": [
       "<Figure size 1152x576 with 1 Axes>"
      ]
     },
     "metadata": {
      "needs_background": "light"
     },
     "output_type": "display_data"
    }
   ],
   "source": [
    "plt.figure(figsize=(16, 8))\n",
    "plt.plot(reinforce_logs.cumsum() / (pd.Series(np.arange(reinforce_logs.shape[0]))+1), label=\"REINFORCE\")\n",
    "plt.plot(deepsarsa_logs.cumsum() / (pd.Series(np.arange(deepsarsa_logs.shape[0]))+1), label=\"DeepSARSA\")\n",
    "plt.legend()"
   ]
  },
  {
   "cell_type": "code",
   "execution_count": null,
   "metadata": {},
   "outputs": [],
   "source": []
  }
 ],
 "metadata": {
  "kernelspec": {
   "display_name": "Python 3",
   "language": "python",
   "name": "python3"
  },
  "language_info": {
   "codemirror_mode": {
    "name": "ipython",
    "version": 3
   },
   "file_extension": ".py",
   "mimetype": "text/x-python",
   "name": "python",
   "nbconvert_exporter": "python",
   "pygments_lexer": "ipython3",
   "version": "3.7.3"
  }
 },
 "nbformat": 4,
 "nbformat_minor": 4
}
